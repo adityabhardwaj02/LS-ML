{
  "nbformat": 4,
  "nbformat_minor": 0,
  "metadata": {
    "colab": {
      "provenance": []
    },
    "kernelspec": {
      "name": "python3",
      "display_name": "Python 3"
    },
    "language_info": {
      "name": "python"
    }
  },
  "cells": [
    {
      "cell_type": "code",
      "execution_count": null,
      "metadata": {
        "id": "yErycb4L9DOS"
      },
      "outputs": [],
      "source": [
        "!pip install -q keras\n",
        "!pip install -q tensorflow"
      ]
    },
    {
      "cell_type": "code",
      "source": [
        "import tensorflow as tf\n",
        "from tensorflow import keras\n",
        "from keras import datasets\n",
        "from keras import layers\n",
        "from keras import regularizers\n",
        "from keras.preprocessing.image import ImageDataGenerator"
      ],
      "metadata": {
        "id": "nykXaHhNNXjR"
      },
      "execution_count": null,
      "outputs": []
    },
    {
      "cell_type": "code",
      "source": [
        "image_height=64\n",
        "image_width=64\n",
        "batch_size=32"
      ],
      "metadata": {
        "id": "SGeg41C7IG3c"
      },
      "execution_count": null,
      "outputs": []
    },
    {
      "cell_type": "code",
      "source": [
        "from google.colab import drive\n",
        "drive.mount('/content/drive')"
      ],
      "metadata": {
        "id": "fnFzktADNgE0"
      },
      "execution_count": null,
      "outputs": []
    },
    {
      "cell_type": "code",
      "source": [
        "ds_train=tf.keras.preprocessing.image_dataset_from_directory(\n",
        "    '/content/drive/MyDrive/dataset',\n",
        "    labels='inferred',\n",
        "    color_mode='rgb',\n",
        "    label_mode='binary',\n",
        "    batch_size=batch_size,\n",
        "    image_size=(image_height,image_width),\n",
        "    #class_mode='binary',\n",
        "    shuffle=True,\n",
        "    seed=123,\n",
        "    validation_split=0.1,\n",
        "    subset='training'\n",
        ")"
      ],
      "metadata": {
        "id": "2AhJqcUEIQnn"
      },
      "execution_count": null,
      "outputs": []
    },
    {
      "cell_type": "code",
      "source": [
        "ds_test=tf.keras.preprocessing.image_dataset_from_directory(\n",
        "    '/content/drive/MyDrive/dataset',\n",
        "    labels='inferred',\n",
        "    color_mode='rgb',\n",
        "    batch_size=batch_size,\n",
        "    label_mode='binary',\n",
        "    image_size=(image_height,image_width),\n",
        "    #class_mode='binary',\n",
        "    shuffle=True,\n",
        "    seed=123,\n",
        "    validation_split=0.1,\n",
        "    subset='validation'\n",
        ")"
      ],
      "metadata": {
        "id": "0QDIzhGsOpWt"
      },
      "execution_count": null,
      "outputs": []
    },
    {
      "cell_type": "code",
      "source": [
        "preprocess = tf.keras.Sequential(\n",
        "    [tf.keras.layers.Rescaling(1/255.0)] # rescaling factor\n",
        ")"
      ],
      "metadata": {
        "id": "Qjf1vuJKVgBl"
      },
      "execution_count": null,
      "outputs": []
    },
    {
      "cell_type": "code",
      "source": [
        "model=keras.Sequential()\n",
        "model.add(keras.layers.Flatten(input_shape=(image_height,image_width,3)))\n",
        "model.add(preprocess)\n",
        "model.add(layers.Dense(256,input_shape=(image_height,image_width,3),activation='relu'))\n",
        "model.add(layers.Dense(512,activation='relu'))\n",
        "model.add(layers.Dense(256,activation='relu'))\n",
        "model.add(layers.Dense(1, activation='sigmoid'))"
      ],
      "metadata": {
        "id": "jgH3Uyx9OwSa"
      },
      "execution_count": null,
      "outputs": []
    },
    {
      "cell_type": "code",
      "source": [
        "model.summary()"
      ],
      "metadata": {
        "id": "7C1dj-6KO2Dq"
      },
      "execution_count": null,
      "outputs": []
    },
    {
      "cell_type": "code",
      "source": [
        "model.compile(optimizer='adam',loss='binary_crossentropy',metrics=['accuracy'])"
      ],
      "metadata": {
        "id": "gJJ-ybpFO8y7"
      },
      "execution_count": null,
      "outputs": []
    },
    {
      "cell_type": "code",
      "source": [
        "model.fit(ds_train,epochs=10,batch_size=32)"
      ],
      "metadata": {
        "id": "cisQBo0LPA9k"
      },
      "execution_count": null,
      "outputs": []
    },
    {
      "cell_type": "code",
      "source": [
        "model.evaluate(ds_test,batch_size=32)"
      ],
      "metadata": {
        "id": "0AqB87VsPmzT"
      },
      "execution_count": null,
      "outputs": []
    }
  ]
}