{
  "nbformat": 4,
  "nbformat_minor": 0,
  "metadata": {
    "colab": {
      "provenance": []
    },
    "kernelspec": {
      "name": "python3",
      "display_name": "Python 3"
    },
    "language_info": {
      "name": "python"
    }
  },
  "cells": [
    {
      "cell_type": "code",
      "execution_count": 1,
      "metadata": {
        "id": "yErycb4L9DOS"
      },
      "outputs": [],
      "source": [
        "!pip install -q keras\n",
        "!pip install -q tensorflow"
      ]
    },
    {
      "cell_type": "code",
      "source": [
        "import tensorflow as tf\n",
        "from tensorflow import keras\n",
        "from keras import datasets\n",
        "from keras import layers\n",
        "from keras import regularizers\n",
        "from keras.preprocessing.image import ImageDataGenerator"
      ],
      "metadata": {
        "id": "nykXaHhNNXjR"
      },
      "execution_count": 2,
      "outputs": []
    },
    {
      "cell_type": "code",
      "source": [
        "image_height=64\n",
        "image_width=64\n",
        "batch_size=32"
      ],
      "metadata": {
        "id": "SGeg41C7IG3c"
      },
      "execution_count": 3,
      "outputs": []
    },
    {
      "cell_type": "code",
      "source": [
        "from google.colab import drive\n",
        "drive.mount('/content/drive')"
      ],
      "metadata": {
        "colab": {
          "base_uri": "https://localhost:8080/"
        },
        "id": "fnFzktADNgE0",
        "outputId": "e8a9d7d2-922b-4e77-9b97-c3c5a522706f"
      },
      "execution_count": 4,
      "outputs": [
        {
          "output_type": "stream",
          "name": "stdout",
          "text": [
            "Drive already mounted at /content/drive; to attempt to forcibly remount, call drive.mount(\"/content/drive\", force_remount=True).\n"
          ]
        }
      ]
    },
    {
      "cell_type": "code",
      "source": [
        "ds_train=tf.keras.preprocessing.image_dataset_from_directory(\n",
        "    '/content/drive/MyDrive/dataset',\n",
        "    labels='inferred',\n",
        "    color_mode='rgb',\n",
        "    label_mode='binary',\n",
        "    batch_size=batch_size,\n",
        "    image_size=(image_height,image_width),\n",
        "    #class_mode='binary',\n",
        "    shuffle=True,\n",
        "    seed=123,\n",
        "    validation_split=0.1,\n",
        "    subset='training'\n",
        ")"
      ],
      "metadata": {
        "colab": {
          "base_uri": "https://localhost:8080/"
        },
        "id": "2AhJqcUEIQnn",
        "outputId": "982c782d-9a74-4657-9170-776e0ac3ec19"
      },
      "execution_count": 5,
      "outputs": [
        {
          "output_type": "stream",
          "name": "stdout",
          "text": [
            "Found 269 files belonging to 2 classes.\n",
            "Using 243 files for training.\n"
          ]
        }
      ]
    },
    {
      "cell_type": "code",
      "source": [
        "ds_test=tf.keras.preprocessing.image_dataset_from_directory(\n",
        "    '/content/drive/MyDrive/dataset',\n",
        "    labels='inferred',\n",
        "    color_mode='rgb',\n",
        "    batch_size=batch_size,\n",
        "    label_mode='binary',\n",
        "    image_size=(image_height,image_width),\n",
        "    #class_mode='binary',\n",
        "    shuffle=True,\n",
        "    seed=123,\n",
        "    validation_split=0.1,\n",
        "    subset='validation'\n",
        ")"
      ],
      "metadata": {
        "colab": {
          "base_uri": "https://localhost:8080/"
        },
        "id": "0QDIzhGsOpWt",
        "outputId": "a0c1c9a8-eb3a-4d13-b496-6c203bc00853"
      },
      "execution_count": 6,
      "outputs": [
        {
          "output_type": "stream",
          "name": "stdout",
          "text": [
            "Found 269 files belonging to 2 classes.\n",
            "Using 26 files for validation.\n"
          ]
        }
      ]
    },
    {
      "cell_type": "code",
      "source": [
        "preprocess = tf.keras.Sequential(\n",
        "    [tf.keras.layers.Rescaling(1/255.0)] # rescaling factor\n",
        ")"
      ],
      "metadata": {
        "id": "Qjf1vuJKVgBl"
      },
      "execution_count": 7,
      "outputs": []
    },
    {
      "cell_type": "code",
      "source": [
        "model=keras.Sequential()\n",
        "model.add(keras.layers.Flatten(input_shape=(image_height,image_width,3)))\n",
        "model.add(preprocess)\n",
        "model.add(layers.Dense(256,input_shape=(image_height,image_width,3),activation='relu'))\n",
        "model.add(layers.Dense(512,activation='relu'))\n",
        "model.add(layers.Dense(256,activation='relu'))\n",
        "model.add(layers.Dense(1, activation='sigmoid'))"
      ],
      "metadata": {
        "id": "jgH3Uyx9OwSa"
      },
      "execution_count": 8,
      "outputs": []
    },
    {
      "cell_type": "code",
      "source": [
        "model.summary()"
      ],
      "metadata": {
        "colab": {
          "base_uri": "https://localhost:8080/"
        },
        "id": "7C1dj-6KO2Dq",
        "outputId": "8dcf7404-2cc8-452f-fa60-fe9317fc45d0"
      },
      "execution_count": 9,
      "outputs": [
        {
          "output_type": "stream",
          "name": "stdout",
          "text": [
            "Model: \"sequential_1\"\n",
            "_________________________________________________________________\n",
            " Layer (type)                Output Shape              Param #   \n",
            "=================================================================\n",
            " flatten (Flatten)           (None, 12288)             0         \n",
            "                                                                 \n",
            " sequential (Sequential)     (None, 12288)             0         \n",
            "                                                                 \n",
            " dense (Dense)               (None, 256)               3145984   \n",
            "                                                                 \n",
            " dense_1 (Dense)             (None, 512)               131584    \n",
            "                                                                 \n",
            " dense_2 (Dense)             (None, 256)               131328    \n",
            "                                                                 \n",
            " dense_3 (Dense)             (None, 1)                 257       \n",
            "                                                                 \n",
            "=================================================================\n",
            "Total params: 3409153 (13.00 MB)\n",
            "Trainable params: 3409153 (13.00 MB)\n",
            "Non-trainable params: 0 (0.00 Byte)\n",
            "_________________________________________________________________\n"
          ]
        }
      ]
    },
    {
      "cell_type": "code",
      "source": [
        "model.compile(optimizer='adam',loss='binary_crossentropy',metrics=['accuracy'])"
      ],
      "metadata": {
        "id": "gJJ-ybpFO8y7"
      },
      "execution_count": 10,
      "outputs": []
    },
    {
      "cell_type": "code",
      "source": [
        "model.fit(ds_train,epochs=10,batch_size=32)"
      ],
      "metadata": {
        "colab": {
          "base_uri": "https://localhost:8080/"
        },
        "id": "cisQBo0LPA9k",
        "outputId": "46f440df-f2cc-4393-f683-d603a58555c1"
      },
      "execution_count": 11,
      "outputs": [
        {
          "output_type": "stream",
          "name": "stdout",
          "text": [
            "Epoch 1/10\n",
            "8/8 [==============================] - 4s 91ms/step - loss: 4.4914 - accuracy: 0.5597\n",
            "Epoch 2/10\n",
            "8/8 [==============================] - 3s 116ms/step - loss: 1.3132 - accuracy: 0.5350\n",
            "Epoch 3/10\n",
            "8/8 [==============================] - 3s 65ms/step - loss: 0.7855 - accuracy: 0.5761\n",
            "Epoch 4/10\n",
            "8/8 [==============================] - 1s 44ms/step - loss: 0.6442 - accuracy: 0.6379\n",
            "Epoch 5/10\n",
            "8/8 [==============================] - 1s 41ms/step - loss: 0.5996 - accuracy: 0.6831\n",
            "Epoch 6/10\n",
            "8/8 [==============================] - 1s 41ms/step - loss: 0.5670 - accuracy: 0.6955\n",
            "Epoch 7/10\n",
            "8/8 [==============================] - 1s 43ms/step - loss: 0.6474 - accuracy: 0.6872\n",
            "Epoch 8/10\n",
            "8/8 [==============================] - 2s 66ms/step - loss: 0.4805 - accuracy: 0.7572\n",
            "Epoch 9/10\n",
            "8/8 [==============================] - 2s 64ms/step - loss: 0.4510 - accuracy: 0.8066\n",
            "Epoch 10/10\n",
            "8/8 [==============================] - 1s 47ms/step - loss: 0.4361 - accuracy: 0.7778\n"
          ]
        },
        {
          "output_type": "execute_result",
          "data": {
            "text/plain": [
              "<keras.src.callbacks.History at 0x7ce368424a90>"
            ]
          },
          "metadata": {},
          "execution_count": 11
        }
      ]
    },
    {
      "cell_type": "code",
      "source": [
        "model.evaluate(ds_test,batch_size=32)"
      ],
      "metadata": {
        "colab": {
          "base_uri": "https://localhost:8080/"
        },
        "id": "0AqB87VsPmzT",
        "outputId": "b9af19d7-f866-465e-ebeb-6737f09d69c7"
      },
      "execution_count": 12,
      "outputs": [
        {
          "output_type": "stream",
          "name": "stdout",
          "text": [
            "1/1 [==============================] - 0s 335ms/step - loss: 0.3369 - accuracy: 0.9231\n"
          ]
        },
        {
          "output_type": "execute_result",
          "data": {
            "text/plain": [
              "[0.3369281589984894, 0.9230769276618958]"
            ]
          },
          "metadata": {},
          "execution_count": 12
        }
      ]
    }
  ]
}