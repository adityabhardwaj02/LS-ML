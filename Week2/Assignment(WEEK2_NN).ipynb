{
  "nbformat": 4,
  "nbformat_minor": 0,
  "metadata": {
    "colab": {
      "provenance": []
    },
    "kernelspec": {
      "name": "python3",
      "display_name": "Python 3"
    },
    "language_info": {
      "name": "python"
    }
  },
  "cells": [
    {
      "cell_type": "code",
      "execution_count": 44,
      "metadata": {
        "id": "yErycb4L9DOS"
      },
      "outputs": [],
      "source": [
        "!pip install -q keras\n",
        "!pip install -q tensorflow"
      ]
    },
    {
      "cell_type": "code",
      "source": [
        "import tensorflow as tf\n",
        "from tensorflow import keras\n",
        "from keras import datasets\n",
        "from keras import layers\n",
        "from keras import regularizers\n",
        "from keras.preprocessing.image import ImageDataGenerator"
      ],
      "metadata": {
        "id": "nykXaHhNNXjR"
      },
      "execution_count": 45,
      "outputs": []
    },
    {
      "cell_type": "code",
      "source": [
        "image_height=64\n",
        "image_width=64\n",
        "batch_size=32"
      ],
      "metadata": {
        "id": "SGeg41C7IG3c"
      },
      "execution_count": 46,
      "outputs": []
    },
    {
      "cell_type": "code",
      "source": [
        "from google.colab import drive\n",
        "drive.mount('/content/drive')"
      ],
      "metadata": {
        "colab": {
          "base_uri": "https://localhost:8080/"
        },
        "id": "fnFzktADNgE0",
        "outputId": "49768667-3c25-4f3e-a9f3-d590fb97f2c0"
      },
      "execution_count": 47,
      "outputs": [
        {
          "output_type": "stream",
          "name": "stdout",
          "text": [
            "Drive already mounted at /content/drive; to attempt to forcibly remount, call drive.mount(\"/content/drive\", force_remount=True).\n"
          ]
        }
      ]
    },
    {
      "cell_type": "code",
      "source": [
        "ds_train=tf.keras.preprocessing.image_dataset_from_directory(\n",
        "    '/content/drive/MyDrive/dataset',\n",
        "    labels='inferred',\n",
        "    color_mode='rgb',\n",
        "    label_mode='binary',\n",
        "    batch_size=batch_size,\n",
        "    image_size=(image_height,image_width),\n",
        "    #class_mode='binary',\n",
        "    shuffle=True,\n",
        "    seed=123,\n",
        "    validation_split=0.1,\n",
        "    subset='training'\n",
        ")"
      ],
      "metadata": {
        "colab": {
          "base_uri": "https://localhost:8080/"
        },
        "id": "2AhJqcUEIQnn",
        "outputId": "ef283afd-bef0-4ca9-bcf2-2e58b6d19320"
      },
      "execution_count": 48,
      "outputs": [
        {
          "output_type": "stream",
          "name": "stdout",
          "text": [
            "Found 269 files belonging to 2 classes.\n",
            "Using 243 files for training.\n"
          ]
        }
      ]
    },
    {
      "cell_type": "code",
      "source": [
        "ds_test=tf.keras.preprocessing.image_dataset_from_directory(\n",
        "    '/content/drive/MyDrive/dataset',\n",
        "    labels='inferred',\n",
        "    color_mode='rgb',\n",
        "    batch_size=batch_size,\n",
        "    label_mode='binary',\n",
        "    image_size=(image_height,image_width),\n",
        "    #class_mode='binary',\n",
        "    shuffle=True,\n",
        "    seed=123,\n",
        "    validation_split=0.1,\n",
        "    subset='validation'\n",
        ")"
      ],
      "metadata": {
        "colab": {
          "base_uri": "https://localhost:8080/"
        },
        "id": "0QDIzhGsOpWt",
        "outputId": "0b0ef53d-cb55-4b4f-8d6c-071e378a36f4"
      },
      "execution_count": 49,
      "outputs": [
        {
          "output_type": "stream",
          "name": "stdout",
          "text": [
            "Found 269 files belonging to 2 classes.\n",
            "Using 26 files for validation.\n"
          ]
        }
      ]
    },
    {
      "cell_type": "code",
      "source": [
        "preprocess = tf.keras.Sequential(\n",
        "    [tf.keras.layers.Rescaling(1/255.0)] # rescaling factor\n",
        ")"
      ],
      "metadata": {
        "id": "Qjf1vuJKVgBl"
      },
      "execution_count": 50,
      "outputs": []
    },
    {
      "cell_type": "code",
      "source": [
        "model=keras.Sequential()\n",
        "model.add(keras.layers.Flatten(input_shape=(image_height,image_width,3)))\n",
        "model.add(preprocess)\n",
        "model.add(layers.Dense(256,input_shape=(image_height,image_width,3),activation='relu'))\n",
        "model.add(layers.Dense(512,activation='relu'))\n",
        "model.add(layers.Dense(256,activation='relu'))\n",
        "model.add(layers.Dense(1, activation='sigmoid'))"
      ],
      "metadata": {
        "id": "jgH3Uyx9OwSa"
      },
      "execution_count": 51,
      "outputs": []
    },
    {
      "cell_type": "code",
      "source": [
        "model.summary()"
      ],
      "metadata": {
        "colab": {
          "base_uri": "https://localhost:8080/"
        },
        "id": "7C1dj-6KO2Dq",
        "outputId": "a7594df1-e034-45df-ce34-51fdc734247d"
      },
      "execution_count": 52,
      "outputs": [
        {
          "output_type": "stream",
          "name": "stdout",
          "text": [
            "Model: \"sequential_7\"\n",
            "_________________________________________________________________\n",
            " Layer (type)                Output Shape              Param #   \n",
            "=================================================================\n",
            " flatten_4 (Flatten)         (None, 12288)             0         \n",
            "                                                                 \n",
            " sequential_6 (Sequential)   (None, 12288)             0         \n",
            "                                                                 \n",
            " dense_16 (Dense)            (None, 256)               3145984   \n",
            "                                                                 \n",
            " dense_17 (Dense)            (None, 512)               131584    \n",
            "                                                                 \n",
            " dense_18 (Dense)            (None, 256)               131328    \n",
            "                                                                 \n",
            " dense_19 (Dense)            (None, 1)                 257       \n",
            "                                                                 \n",
            "=================================================================\n",
            "Total params: 3409153 (13.00 MB)\n",
            "Trainable params: 3409153 (13.00 MB)\n",
            "Non-trainable params: 0 (0.00 Byte)\n",
            "_________________________________________________________________\n"
          ]
        }
      ]
    },
    {
      "cell_type": "code",
      "source": [
        "model.compile(optimizer='adam',loss='binary_crossentropy',metrics=['accuracy'])"
      ],
      "metadata": {
        "id": "gJJ-ybpFO8y7"
      },
      "execution_count": 53,
      "outputs": []
    },
    {
      "cell_type": "code",
      "source": [
        "model.fit(ds_train,epochs=10,batch_size=64)"
      ],
      "metadata": {
        "colab": {
          "base_uri": "https://localhost:8080/"
        },
        "id": "cisQBo0LPA9k",
        "outputId": "12478fd0-d343-4831-ec5a-8d54b45001ed"
      },
      "execution_count": 54,
      "outputs": [
        {
          "output_type": "stream",
          "name": "stdout",
          "text": [
            "Epoch 1/10\n",
            "8/8 [==============================] - 3s 69ms/step - loss: 2.9539 - accuracy: 0.5720\n",
            "Epoch 2/10\n",
            "8/8 [==============================] - 2s 73ms/step - loss: 1.5450 - accuracy: 0.4856\n",
            "Epoch 3/10\n",
            "8/8 [==============================] - 3s 88ms/step - loss: 0.7895 - accuracy: 0.5720\n",
            "Epoch 4/10\n",
            "8/8 [==============================] - 3s 75ms/step - loss: 0.6957 - accuracy: 0.5844\n",
            "Epoch 5/10\n",
            "8/8 [==============================] - 1s 39ms/step - loss: 0.5375 - accuracy: 0.7202\n",
            "Epoch 6/10\n",
            "8/8 [==============================] - 1s 40ms/step - loss: 0.5467 - accuracy: 0.7243\n",
            "Epoch 7/10\n",
            "8/8 [==============================] - 1s 42ms/step - loss: 0.4843 - accuracy: 0.7901\n",
            "Epoch 8/10\n",
            "8/8 [==============================] - 2s 55ms/step - loss: 0.4710 - accuracy: 0.7695\n",
            "Epoch 9/10\n",
            "8/8 [==============================] - 1s 39ms/step - loss: 0.4398 - accuracy: 0.7984\n",
            "Epoch 10/10\n",
            "8/8 [==============================] - 1s 39ms/step - loss: 0.4023 - accuracy: 0.8272\n"
          ]
        },
        {
          "output_type": "execute_result",
          "data": {
            "text/plain": [
              "<keras.src.callbacks.History at 0x7e0f40c12da0>"
            ]
          },
          "metadata": {},
          "execution_count": 54
        }
      ]
    },
    {
      "cell_type": "code",
      "source": [
        "model.evaluate(ds_test,batch_size=64)"
      ],
      "metadata": {
        "colab": {
          "base_uri": "https://localhost:8080/"
        },
        "id": "0AqB87VsPmzT",
        "outputId": "4f9d31b5-07e7-4b1f-c031-49740fcfc841"
      },
      "execution_count": 55,
      "outputs": [
        {
          "output_type": "stream",
          "name": "stdout",
          "text": [
            "1/1 [==============================] - 0s 253ms/step - loss: 0.3460 - accuracy: 0.9231\n"
          ]
        },
        {
          "output_type": "execute_result",
          "data": {
            "text/plain": [
              "[0.34600570797920227, 0.9230769276618958]"
            ]
          },
          "metadata": {},
          "execution_count": 55
        }
      ]
    }
  ]
}