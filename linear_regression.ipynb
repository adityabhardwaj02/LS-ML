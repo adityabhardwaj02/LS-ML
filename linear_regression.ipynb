{
 "cells": [
  {
   "cell_type": "code",
   "execution_count": 1,
   "id": "eafb0a6a-d0d4-499a-a329-498a2f943481",
   "metadata": {},
   "outputs": [],
   "source": [
    "import numpy as np\n",
    "import pandas as pd\n",
    "import matplotlib.pyplot as plt\n",
    "\n",
    "# Aim is to predict the marks of students of the test data"
   ]
  },
  {
   "cell_type": "code",
   "execution_count": 18,
   "id": "7a1a1a85-9516-40a2-9885-54a4fbc67e80",
   "metadata": {},
   "outputs": [
    {
     "data": {
      "text/plain": [
       "array([[0.0, 1.0, 2, ..., 6, 18, 118],\n",
       "       [1.0, 1.0, 2, ..., 7, 19, 107],\n",
       "       [1.0, 1.0, 3, ..., 5, 18, 108],\n",
       "       ...,\n",
       "       [1.0, 1.0, 2, ..., 5, 17, 123],\n",
       "       [1.0, 0.0, 1, ..., 8, 17, 104],\n",
       "       [1.0, 1.0, 1, ..., 6, 18, 128]], dtype=object)"
      ]
     },
     "execution_count": 18,
     "metadata": {},
     "output_type": "execute_result"
    }
   ],
   "source": [
    "# Use the file namd 'training data' to train the model\n",
    "\n",
    "data = pd.read_excel('Training data.xlsx')\n",
    "x_train = np.array(data.iloc[:,0:8])\n",
    "y_train = np.array(data.iloc[:,8]).reshape(-1,1)\n",
    "\n",
    "# Try plotting y_train with different features\n",
    "\n",
    "# To get an idea whether to add some features or not\n",
    "# Add some features if required in x_train\n",
    "\n",
    "# Also do label encoding for features not represented in numbers\n",
    "# refer the link if not know : https://youtu.be/589nCGeWG1w?si=t2Wa7LgbUOO4RooM\n",
    "\n",
    "def feature_changing(x_train):\n",
    "    for j in range (x_train.shape[0]):\n",
    "        if x_train[j,0]=='yes':\n",
    "            x_train[j,0]=float(1)\n",
    "        else:\n",
    "            x_train[j,0]=float(0)\n",
    "    for j in range (x_train.shape[0]):\n",
    "        if x_train[j,1]=='M':\n",
    "            x_train[j,1]=float(1)\n",
    "        else:\n",
    "            x_train[j,1]=float(0) \n",
    "           # x_train=x_train.astype(float)\n",
    "    return x_train\n",
    "x_train = feature_changing(x_train)\n",
    "x_train"
   ]
  },
  {
   "cell_type": "code",
   "execution_count": 21,
   "id": "c341c743-3a9e-493f-921d-66c62338d52e",
   "metadata": {},
   "outputs": [
    {
     "data": {
      "text/plain": [
       "array([[-1.46446375e+00,  8.56213906e-01,  2.86766521e-01, ...,\n",
       "         3.75906959e-01,  3.31807385e-02,  7.71401505e-01],\n",
       "       [ 6.82843803e-01,  8.56213906e-01,  2.86766521e-01, ...,\n",
       "         7.51438386e-01,  1.61321590e+00, -1.74154162e-01],\n",
       "       [ 6.82843803e-01,  8.56213906e-01,  1.39826467e+00, ...,\n",
       "         3.75531427e-04,  3.31807385e-02, -8.81945558e-02],\n",
       "       ...,\n",
       "       [ 6.82843803e-01,  8.56213906e-01,  2.86766521e-01, ...,\n",
       "         3.75531427e-04, -1.54685443e+00,  1.20119954e+00],\n",
       "       [ 6.82843803e-01, -1.16793244e+00, -8.24731623e-01, ...,\n",
       "         1.12696981e+00, -1.54685443e+00, -4.32032980e-01],\n",
       "       [ 6.82843803e-01,  8.56213906e-01, -8.24731623e-01, ...,\n",
       "         3.75906959e-01,  3.31807385e-02,  1.63099757e+00]])"
      ]
     },
     "execution_count": 21,
     "metadata": {},
     "output_type": "execute_result"
    }
   ],
   "source": [
    "def z_score(x_train):\n",
    "\n",
    "  # ---------\n",
    "    # write the code for feature scaling here\n",
    "    x_mean=np.mean(x_train,axis=0)\n",
    "    x_std=np.std(x_train,axis=0)\n",
    "    x_train=(x_train-x_mean)/x_std\n",
    "    # Your code here\n",
    "  # ---------\n",
    "\n",
    "    return x_train,x_std,x_mean"
   ]
  },
  {
   "cell_type": "code",
   "execution_count": 22,
   "id": "8767a83c-3ca7-4f41-b0dd-eb4c8d791768",
   "metadata": {},
   "outputs": [],
   "source": [
    "def cost(x_train,y_train,w,b):\n",
    "\n",
    "  # ---------\n",
    "    # Your code here\n",
    "    cost=0\n",
    "    m=x_train.shape[0]\n",
    "    for i in range(m):\n",
    "        cost+=((np.dot(x_train[i],w)+b)-y_train[i])**2\n",
    "    # Use mean square error as cost function\n",
    "    # return cost\n",
    "  # ---------\n",
    "\n",
    "    return cost"
   ]
  },
  {
   "cell_type": "code",
   "execution_count": 51,
   "id": "02f555c2-5652-49f1-a864-37f2e749e711",
   "metadata": {},
   "outputs": [],
   "source": [
    "def gradient_descent(x_train,y_train,w,b):\n",
    "\n",
    "  # ---------\n",
    "    # Your code here\n",
    "    # Choose learning rate yourself\n",
    "    m=x_train.shape[0]\n",
    "    dj_dw=np.zeros((x_train.shape[1],1))\n",
    "    dj_db=0\n",
    "    lr=0.1\n",
    "    for i in range (x_train.shape[0]):\n",
    "        err=(np.dot(x_train[i],w)+b-y_train[i])\n",
    "        for j in range(x_train.shape[1]):\n",
    "            dj_dw[j]=dj_dw[j]+err*x_train[i,j]\n",
    "        dj_db+=err\n",
    "    dj_dw=dj_dw/m\n",
    "    dj_db=dj_db/m\n",
    "    w-=lr*dj_dw\n",
    "    b-=lr*dj_db\n",
    "        \n",
    "  # ---------\n",
    "\n",
    "    return w,b"
   ]
  },
  {
   "cell_type": "code",
   "execution_count": 54,
   "id": "a0a57060-1bfc-4ea8-b30f-8d1308b3efa5",
   "metadata": {},
   "outputs": [
    {
     "name": "stdout",
     "output_type": "stream",
     "text": [
      "Optimization required, your accuracy is 0.0%\n"
     ]
    }
   ],
   "source": [
    "x_train = x_train.astype(np.float64)\n",
    "x_train,x_std,x_mean = z_score(x_train)\n",
    "\n",
    "np.random.seed(2147483647)\n",
    "w = np.zeros((x_train.shape[1],1))\n",
    "b = np.random.randn(1)\n",
    "\n",
    "old_cost = 0\n",
    "iterations=0\n",
    "max_iterations=100000\n",
    "\n",
    "while abs(old_cost - cost(x_train,y_train,w,b))>0.00001 and iterations<max_iterations:\n",
    "    old_cost = cost(x_train,y_train,w,b)\n",
    "    w,b = gradient_descent(x_train,y_train,w,b)\n",
    "    iterations+=1\n",
    "    if iterations % 1000 == 0:\n",
    "        print(f\"Iteration {iterations}: Cost = {cost(x_train, y_train, w, b)}, w={w},b={b}\")\n",
    "x_predict = pd.read_excel('Test data.xlsx').iloc[:,:8].to_numpy()\n",
    "x_predict = feature_changing(x_predict)\n",
    "x_predict = (x_predict - x_mean)/x_std\n",
    "ans = pd.read_excel('Test data.xlsx').iloc[:,8].to_numpy()\n",
    "\n",
    "y_predict = np.dot(x_predict,w) + b\n",
    "\n",
    "accuracy = 0\n",
    "for dim in range(len(ans)):\n",
    "    if abs(y_predict[dim]-ans[dim])<0.5: # do not change the tolerance as you'll be checked on +- 0.5 error only\n",
    "        accuracy += 1\n",
    "accuracy = round(accuracy*100/200.0,2)\n",
    "ok = 'Congratulations' if accuracy>95 else 'Optimization required'\n",
    "print(f\"{ok}, your accuracy is {accuracy}%\")"
   ]
  },
  {
   "cell_type": "code",
   "execution_count": null,
   "id": "c9565552-4b7e-459b-ae7e-b25a904e318c",
   "metadata": {},
   "outputs": [],
   "source": []
  }
 ],
 "metadata": {
  "kernelspec": {
   "display_name": "Python 3 (ipykernel)",
   "language": "python",
   "name": "python3"
  },
  "language_info": {
   "codemirror_mode": {
    "name": "ipython",
    "version": 3
   },
   "file_extension": ".py",
   "mimetype": "text/x-python",
   "name": "python",
   "nbconvert_exporter": "python",
   "pygments_lexer": "ipython3",
   "version": "3.12.3"
  }
 },
 "nbformat": 4,
 "nbformat_minor": 5
}
